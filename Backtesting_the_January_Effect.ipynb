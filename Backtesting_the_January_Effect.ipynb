{
  "nbformat": 4,
  "nbformat_minor": 0,
  "metadata": {
    "colab": {
      "provenance": [],
      "authorship_tag": "ABX9TyOTJfuweiqdmEkng7PsFg2a",
      "include_colab_link": true
    },
    "kernelspec": {
      "name": "python3",
      "display_name": "Python 3"
    },
    "language_info": {
      "name": "python"
    }
  },
  "cells": [
    {
      "cell_type": "markdown",
      "metadata": {
        "id": "view-in-github",
        "colab_type": "text"
      },
      "source": [
        "<a href=\"https://colab.research.google.com/github/Ayush-Kori/Quant-Dev-/blob/main/Backtesting_the_January_Effect.ipynb\" target=\"_parent\"><img src=\"https://colab.research.google.com/assets/colab-badge.svg\" alt=\"Open In Colab\"/></a>"
      ]
    },
    {
      "cell_type": "code",
      "execution_count": 10,
      "metadata": {
        "id": "zucfApYRPbEN"
      },
      "outputs": [],
      "source": [
        "import numpy as np\n",
        "import pandas as pd\n",
        "onewaytcost=0.0005"
      ]
    },
    {
      "cell_type": "code",
      "source": [
        "df=pd.read_table('IJR_20080131.txt')\n",
        "df['Date'] = df['Date'].round().astype('int')\n",
        "df['Date']=pd.to_datetime(df['Date'], format='%Y%m%d')\n",
        "df.set_index('Date', inplace=True)"
      ],
      "metadata": {
        "id": "c62ymlMFPpLH"
      },
      "execution_count": 11,
      "outputs": []
    },
    {
      "cell_type": "code",
      "source": [
        "eoyPrice=df.resample('Y').last()[0:-1] # End of december practices . Need to remove last date because\n",
        "#it isn;t really end of year\n",
        "annret=eoyPrice.pct_change().iloc[1:, :]  # first row has NaN\n",
        "eojPrice=df.resample('BA-JAN').last()[1:-1] # End of January prices. Need to remove firsdt date\n",
        "# to match the years in lastdayof Dec, Need to remove last date because it isn;t really end of January"
      ],
      "metadata": {
        "colab": {
          "base_uri": "https://localhost:8080/"
        },
        "id": "ejFVF4NqQNsn",
        "outputId": "82073b4e-be24-44cf-9e4e-20fb198fc66c"
      },
      "execution_count": 12,
      "outputs": [
        {
          "output_type": "stream",
          "name": "stderr",
          "text": [
            "/tmp/ipython-input-4242757328.py:1: FutureWarning: 'Y' is deprecated and will be removed in a future version, please use 'YE' instead.\n",
            "  eoyPrice=df.resample('Y').last()[0:-1] # End of december practices . Need to remove last date because\n",
            "/tmp/ipython-input-4242757328.py:3: FutureWarning: The default fill_method='pad' in DataFrame.pct_change is deprecated and will be removed in a future version. Either fill in any non-leading NA values prior to calling pct_change or specify 'fill_method=None' to not fill NA values.\n",
            "  annret=eoyPrice.pct_change().iloc[1:, :]  # first row has NaN\n",
            "/tmp/ipython-input-4242757328.py:4: FutureWarning: 'BA-JAN' is deprecated and will be removed in a future version, please use 'BYE-JAN' instead.\n",
            "  eojPrice=df.resample('BA-JAN').last()[1:-1] # End of January prices. Need to remove firsdt date\n"
          ]
        }
      ]
    },
    {
      "cell_type": "code",
      "source": [
        "janret=(eojPrice.values-eoyPrice.values)/eoyPrice.values\n",
        "janret=janret[1:,] # match number of rows in annret"
      ],
      "metadata": {
        "id": "TAdTWGjjRIeY"
      },
      "execution_count": 13,
      "outputs": []
    },
    {
      "cell_type": "code",
      "source": [
        "for y in range (len(annret)):\n",
        "  hasData=np.where(np.isfinite(annret.iloc[y, :]))[0]\n",
        "  sortidx=np.argsort(annret.iloc[y, hasData])\n",
        "  topN=np.round(len(hasData)/10)\n",
        "  portRet=(np.nanmean(janret[y, hasData[sortidx.iloc[np.arange(0, topN)]]])-np.nanmean(janret[y, hasData[sortidx.iloc[np.arange(-topN+1, -1)]]]))/2-2*onewaytcost # portfolio returns\n",
        "  print(\"Last holding date %s: Portfolio return=%f\" % (eojPrice.index[y+1], portRet))\n"
      ],
      "metadata": {
        "colab": {
          "base_uri": "https://localhost:8080/"
        },
        "id": "Cuf3yJ6YR3sL",
        "outputId": "b41f8e30-9ef3-4394-ff74-6963527e40ab"
      },
      "execution_count": 16,
      "outputs": [
        {
          "output_type": "stream",
          "name": "stdout",
          "text": [
            "Last holding date 2006-01-31 00:00:00: Portfolio return=-0.023853\n",
            "Last holding date 2007-01-31 00:00:00: Portfolio return=-0.003641\n",
            "Last holding date 2008-01-31 00:00:00: Portfolio return=0.088486\n"
          ]
        }
      ]
    }
  ]
}