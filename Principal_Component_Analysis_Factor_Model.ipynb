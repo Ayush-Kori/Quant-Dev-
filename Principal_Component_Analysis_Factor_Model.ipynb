{
  "nbformat": 4,
  "nbformat_minor": 0,
  "metadata": {
    "colab": {
      "provenance": [],
      "authorship_tag": "ABX9TyObqH/X5wzYiEaN1VTOH4Tc",
      "include_colab_link": true
    },
    "kernelspec": {
      "name": "python3",
      "display_name": "Python 3"
    },
    "language_info": {
      "name": "python"
    }
  },
  "cells": [
    {
      "cell_type": "markdown",
      "metadata": {
        "id": "view-in-github",
        "colab_type": "text"
      },
      "source": [
        "<a href=\"https://colab.research.google.com/github/Ayush-Kori/Quant-Dev-/blob/main/Principal_Component_Analysis_Factor_Model.ipynb\" target=\"_parent\"><img src=\"https://colab.research.google.com/assets/colab-badge.svg\" alt=\"Open In Colab\"/></a>"
      ]
    },
    {
      "cell_type": "code",
      "execution_count": 1,
      "metadata": {
        "id": "RUQWYFbLoFeb"
      },
      "outputs": [],
      "source": [
        "import math\n",
        "import numpy as np\n",
        "import pandas as pd\n",
        "from numpy.linalg import eig\n",
        "from numpy.linalg import eigh\n",
        "#from statsmodels.api import OLS\n",
        "import statsmodels.api as sm\n",
        "from sklearn.linear_model import LinearRegression\n",
        "from sklearn.multioutput import MultiOutputRegressor\n",
        "from sklearn.decomposition import PCA\n",
        "from sklearn.preprocessing import StandardScaler\n",
        "from sklearn.linear_model import Ridge\n",
        "import time"
      ]
    },
    {
      "cell_type": "code",
      "source": [
        "lookback=-252 # training period for factor exposure\n",
        "numFactors=5\n",
        "topN=50 # for trading strategy , long stocks with top N\n",
        "# expected 1-day return\n",
        "df=pd.read_table('IJR_20080114.txt')\n",
        "df['Date']=df['Date'].astype('int')\n",
        "df.set_index('Date', inplace=True)\n",
        "df.sort_index(inplace=True)"
      ],
      "metadata": {
        "id": "7YucgbwiuJN2"
      },
      "execution_count": 3,
      "outputs": []
    },
    {
      "cell_type": "code",
      "source": [
        "df.fillna(method='ffill', inplace=True)\n",
        "df.fillna(method='bfill', inplace=True)\n",
        "dailyret=df.pct_change() # note the rows of dailyret are the observations at different time periods\n",
        "positionsTable=np.zeros(df.shape)\n",
        "end_index= df.shape[0]\n",
        "end_index = lookback +10"
      ],
      "metadata": {
        "id": "I2q1j4JMvMqp",
        "colab": {
          "base_uri": "https://localhost:8080/"
        },
        "outputId": "fdc11049-b7b7-4d28-f658-91bfb144f578"
      },
      "execution_count": 14,
      "outputs": [
        {
          "output_type": "stream",
          "name": "stderr",
          "text": [
            "/tmp/ipython-input-3520872377.py:1: FutureWarning: DataFrame.fillna with 'method' is deprecated and will raise in a future version. Use obj.ffill() or obj.bfill() instead.\n",
            "  df.fillna(method='ffill', inplace=True)\n",
            "/tmp/ipython-input-3520872377.py:2: FutureWarning: DataFrame.fillna with 'method' is deprecated and will raise in a future version. Use obj.ffill() or obj.bfill() instead.\n",
            "  df.fillna(method='bfill', inplace=True)\n"
          ]
        }
      ]
    },
    {
      "cell_type": "code",
      "source": [
        "for t in np.arange(lookback+1, end_index):\n",
        "  R=dailyret.iloc[t-lookback+1:t,].T #here the columns of R are the different observations\n",
        "  hasData=np.where(R.notna().all(axis=1))[0]\n",
        "  R.dropna(inplace=True) # avoid any stocks with missing returns\n",
        "  pca = PCA()\n",
        "  X = pca.fit_transform(R.T)[:, :numFactors]\n",
        "  X = sm.add_constant(X)\n",
        "  y1 = R.T\n",
        "  clf = MultiOutputRegressor(LinearRegression(fit_intercept=False), n_jobs=4).fit(X,y1)\n",
        "  Rexp = np.sum(clf.predict(X), axis=0)\n",
        "  R=dailyret.iloc[t-lookback+1:t+1,].T # here the columnds of R are the dfifferent obervations\n",
        "  idxSort=Rexp.argsort()\n",
        "  positionsTable[t, hasData[idxSort[np.arange(0, topN)]]] =-1\n",
        "  # positionsTable[t, hasData[idxSort[np.arange(-topN,0)]]] = 1\n",
        "  positionsTable[t, hasData[idxSort[np.arange(-topN, -1)]]] = 1\n"
      ],
      "metadata": {
        "id": "hKXU3NqsGgQv"
      },
      "execution_count": 15,
      "outputs": []
    },
    {
      "cell_type": "code",
      "source": [
        "capital=np.nansum(np.array(abs(pd.DataFrame(positionsTable)).shift()), axis=1)\n",
        "positionsTable[capital==0,]=0\n",
        "ret=np.nansum(np.array(pd.DataFrame(positionsTable).shift())*np.array(dailyret), axis=1)/capital"
      ],
      "metadata": {
        "colab": {
          "base_uri": "https://localhost:8080/"
        },
        "id": "xbSZxrbnHRug",
        "outputId": "562d2ffe-76f8-4ab5-e7bd-8085ddb51108"
      },
      "execution_count": 20,
      "outputs": [
        {
          "output_type": "stream",
          "name": "stderr",
          "text": [
            "/tmp/ipython-input-1956902973.py:3: RuntimeWarning: invalid value encountered in divide\n",
            "  ret=np.nansum(np.array(pd.DataFrame(positionsTable).shift())*np.array(dailyret), axis=1)/capital\n"
          ]
        }
      ]
    },
    {
      "cell_type": "code",
      "source": [
        "avgret=np.nanmean(ret)*252\n",
        "avgstdev=np.nanstd(ret)*math.sqrt(252)\n",
        "Sharpe = avgret/avgstdev\n",
        "print(avgret)\n",
        "print(avgstdev)\n",
        "print(Sharpe)"
      ],
      "metadata": {
        "colab": {
          "base_uri": "https://localhost:8080/"
        },
        "id": "NK2NjKnuNmW0",
        "outputId": "5c71c32b-9e01-4a03-b9fb-edb7f4616289"
      },
      "execution_count": 21,
      "outputs": [
        {
          "output_type": "stream",
          "name": "stdout",
          "text": [
            "0.0356069129378111\n",
            "0.07329505351387032\n",
            "0.48580240044538425\n"
          ]
        }
      ]
    }
  ]
}