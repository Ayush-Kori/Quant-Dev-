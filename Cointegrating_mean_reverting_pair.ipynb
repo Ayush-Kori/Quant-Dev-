{
  "nbformat": 4,
  "nbformat_minor": 0,
  "metadata": {
    "colab": {
      "provenance": [],
      "authorship_tag": "ABX9TyMvtRBDtaPzyUF339cgbbo2",
      "include_colab_link": true
    },
    "kernelspec": {
      "name": "python3",
      "display_name": "Python 3"
    },
    "language_info": {
      "name": "python"
    }
  },
  "cells": [
    {
      "cell_type": "markdown",
      "metadata": {
        "id": "view-in-github",
        "colab_type": "text"
      },
      "source": [
        "<a href=\"https://colab.research.google.com/github/Ayush-Kori/Quant-Dev-/blob/main/Cointegrating_mean_reverting_pair.ipynb\" target=\"_parent\"><img src=\"https://colab.research.google.com/assets/colab-badge.svg\" alt=\"Open In Colab\"/></a>"
      ]
    },
    {
      "cell_type": "code",
      "execution_count": 1,
      "metadata": {
        "id": "O-CmNDRL6fIt"
      },
      "outputs": [],
      "source": [
        "import numpy as np\n",
        "import pandas as pd\n",
        "import matplotlib.pyplot as plt"
      ]
    },
    {
      "cell_type": "code",
      "source": [
        "from statsmodels.tsa.stattools import coint\n",
        "from statsmodels.api import OLS\n",
        "df1=pd.read_excel('GLD.xls')\n",
        "df2=pd.read_excel('GDX.xls')\n",
        "df=pd.merge(df1, df2, on='Date', suffixes=('_GLD', '_GDX'))\n",
        "print(df)"
      ],
      "metadata": {
        "colab": {
          "base_uri": "https://localhost:8080/"
        },
        "id": "21Gctkc98rXH",
        "outputId": "0e399d9f-d3b6-4dea-f3d7-6bb9b0fb7e05"
      },
      "execution_count": 6,
      "outputs": [
        {
          "output_type": "stream",
          "name": "stdout",
          "text": [
            "          Date  Open_GLD  High_GLD  Low_GLD  Close_GLD  Volume_GLD  \\\n",
            "0   2007-11-30     78.35     78.60    76.98      77.32     9509100   \n",
            "1   2007-11-29     79.28     79.33    78.28      78.28     9306700   \n",
            "2   2007-11-28     79.42     79.87    78.76      79.57     9706700   \n",
            "3   2007-11-27     80.70     80.89    79.81      80.10     7229900   \n",
            "4   2007-11-26     82.25     82.25    81.13      81.30     7440200   \n",
            "..         ...       ...       ...      ...        ...         ...   \n",
            "380 2006-05-30     65.20     66.24    65.00      65.11     8240200   \n",
            "381 2006-05-26     65.01     65.10    63.75      65.10     5265900   \n",
            "382 2006-05-25     64.12     64.76    63.76      64.70     6505400   \n",
            "383 2006-05-24     64.83     65.16    63.22      64.06    11065600   \n",
            "384 2006-05-23     65.99     67.16    65.91      66.38    10509700   \n",
            "\n",
            "     Adj Close_GLD  Open_GDX  High_GDX  Low_GDX  Close_GDX  Volume_GDX  \\\n",
            "0            77.32     47.09     47.50    45.70      46.36     2006000   \n",
            "1            78.28     47.10     48.00    46.76      47.02     1668500   \n",
            "2            79.57     46.11     48.00    46.06      47.86     3893200   \n",
            "3            80.10     46.84     46.84    45.74      46.61     2329700   \n",
            "4            81.30     49.43     49.43    46.85      47.06     1966500   \n",
            "..             ...       ...       ...      ...        ...         ...   \n",
            "380          65.11     39.50     39.72    38.11      38.17      559100   \n",
            "381          65.10     38.74     38.74    37.77      38.55      269400   \n",
            "382          64.70     37.18     38.32    36.98      38.32      367000   \n",
            "383          64.06     37.13     37.57    35.87      36.52      638600   \n",
            "384          66.38     37.75     39.22    37.75      37.96      620900   \n",
            "\n",
            "     Adj Close_GDX  \n",
            "0            46.36  \n",
            "1            47.02  \n",
            "2            47.86  \n",
            "3            46.61  \n",
            "4            47.06  \n",
            "..             ...  \n",
            "380          38.06  \n",
            "381          38.44  \n",
            "382          38.21  \n",
            "383          36.41  \n",
            "384          37.85  \n",
            "\n",
            "[385 rows x 13 columns]\n"
          ]
        }
      ]
    },
    {
      "cell_type": "code",
      "source": [
        "df.set_index('Date', inplace=True)\n",
        "df.sort_index(inplace=True)\n",
        "trainset=np.arange(0, 252)\n",
        "df=df.iloc[trainset,]"
      ],
      "metadata": {
        "id": "qIBXOduG9gXv"
      },
      "execution_count": 7,
      "outputs": []
    },
    {
      "cell_type": "markdown",
      "source": [
        "Run cointegration (Eagel =Granger)"
      ],
      "metadata": {
        "id": "4sHbcr9p-N8k"
      }
    },
    {
      "cell_type": "code",
      "source": [
        "coint_t, pvalue, crit_value=coint(df['Adj Close_GLD'], df['Adj Close_GDX'])\n",
        "(coint_t, pvalue, crit_value)  # abs (t-stat) > critical value at 95%. pvalue says\n",
        "# probability of null hypo-thesis  (of no cointegration) is only 1.8%\n"
      ],
      "metadata": {
        "colab": {
          "base_uri": "https://localhost:8080/"
        },
        "id": "HMXbMs1z-TgU",
        "outputId": "08704507-fd27-48f3-dbfe-3c76893a9c1d"
      },
      "execution_count": 8,
      "outputs": [
        {
          "output_type": "execute_result",
          "data": {
            "text/plain": [
              "(np.float64(-2.35912683766872),\n",
              " np.float64(0.3444494880427906),\n",
              " array([-3.94060523, -3.36058133, -3.06139039]))"
            ]
          },
          "metadata": {},
          "execution_count": 8
        }
      ]
    },
    {
      "cell_type": "code",
      "source": [
        "# Determine hedge ratio\n",
        "model=OLS(df['Adj Close_GLD'], df['Adj Close_GDX'])\n",
        "results=model.fit()"
      ],
      "metadata": {
        "id": "8U3kBHBs_XT3"
      },
      "execution_count": 9,
      "outputs": []
    },
    {
      "cell_type": "code",
      "source": [
        "hedgeRatio=results.params\n",
        "hedgeRatio"
      ],
      "metadata": {
        "colab": {
          "base_uri": "https://localhost:8080/",
          "height": 115
        },
        "id": "xKXmwL5E_zYr",
        "outputId": "5eee9a6e-f987-4233-ae07-520161c76f15"
      },
      "execution_count": 10,
      "outputs": [
        {
          "output_type": "execute_result",
          "data": {
            "text/plain": [
              "Adj Close_GDX    1.631009\n",
              "dtype: float64"
            ],
            "text/html": [
              "<div>\n",
              "<style scoped>\n",
              "    .dataframe tbody tr th:only-of-type {\n",
              "        vertical-align: middle;\n",
              "    }\n",
              "\n",
              "    .dataframe tbody tr th {\n",
              "        vertical-align: top;\n",
              "    }\n",
              "\n",
              "    .dataframe thead th {\n",
              "        text-align: right;\n",
              "    }\n",
              "</style>\n",
              "<table border=\"1\" class=\"dataframe\">\n",
              "  <thead>\n",
              "    <tr style=\"text-align: right;\">\n",
              "      <th></th>\n",
              "      <th>0</th>\n",
              "    </tr>\n",
              "  </thead>\n",
              "  <tbody>\n",
              "    <tr>\n",
              "      <th>Adj Close_GDX</th>\n",
              "      <td>1.631009</td>\n",
              "    </tr>\n",
              "  </tbody>\n",
              "</table>\n",
              "</div><br><label><b>dtype:</b> float64</label>"
            ]
          },
          "metadata": {},
          "execution_count": 10
        }
      ]
    },
    {
      "cell_type": "markdown",
      "source": [
        "Spread =  GLD- hedgeRatio*GDX"
      ],
      "metadata": {
        "id": "UVHQU52NANMk"
      }
    },
    {
      "cell_type": "code",
      "source": [
        "spread=df['Adj Close_GLD']-hedgeRatio[0]*df['Adj Close_GDX']\n",
        "plt.plot(spread)"
      ],
      "metadata": {
        "colab": {
          "base_uri": "https://localhost:8080/",
          "height": 502
        },
        "id": "_uKy5_ZoAUBL",
        "outputId": "2c33aee0-55a4-4592-9d5f-3da06a2c5020"
      },
      "execution_count": 11,
      "outputs": [
        {
          "output_type": "stream",
          "name": "stderr",
          "text": [
            "/tmp/ipython-input-852059632.py:1: FutureWarning: Series.__getitem__ treating keys as positions is deprecated. In a future version, integer keys will always be treated as labels (consistent with DataFrame behavior). To access a value by position, use `ser.iloc[pos]`\n",
            "  spread=df['Adj Close_GLD']-hedgeRatio[0]*df['Adj Close_GDX']\n"
          ]
        },
        {
          "output_type": "execute_result",
          "data": {
            "text/plain": [
              "[<matplotlib.lines.Line2D at 0x78792a9e5090>]"
            ]
          },
          "metadata": {},
          "execution_count": 11
        },
        {
          "output_type": "display_data",
          "data": {
            "text/plain": [
              "<Figure size 640x480 with 1 Axes>"
            ],
            "image/png": "[encoded data removed]"
          },
          "metadata": {}
        }
      ]
    },
    {
      "cell_type": "markdown",
      "source": [
        "Note: Here we can see Pythons code Engle-Ganger test generatieds a r-dtatistics of -2.4, whose absolutevalue is less than 90% which contradicts the result of the matlab so wecant trust python models blindly"
      ],
      "metadata": {
        "id": "T28qmoxODmGJ"
      }
    }
  ]
}